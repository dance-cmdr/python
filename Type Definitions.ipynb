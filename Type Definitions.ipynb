{
 "cells": [
  {
   "cell_type": "code",
   "execution_count": 4,
   "metadata": {},
   "outputs": [
    {
     "name": "stdout",
     "output_type": "stream",
     "text": [
      "3\n",
      "-1\n"
     ]
    }
   ],
   "source": [
    "from typing import Callable\n",
    "\n",
    "NumberOperator = Callable[[int, int], int]\n",
    "\n",
    "\n",
    "def add_numbers(a: int, b: int) -> int:\n",
    "    return a + b\n",
    "\n",
    "def substract_numbers(a: int, b: int) -> int:\n",
    "    return a - b\n",
    "\n",
    "def operate_in_two_numbers(func: NumberOperator, a: int, b: int) -> int:\n",
    "    return func(a, b)\n",
    "\n",
    "print(operate_in_two_numbers(add_numbers, 1, 2))\n",
    "\n",
    "print(operate_in_two_numbers(substract_numbers, 1, 2))\n",
    "\n",
    "\n",
    "\n"
   ]
  },
  {
   "cell_type": "code",
   "execution_count": 5,
   "metadata": {},
   "outputs": [
    {
     "name": "stdout",
     "output_type": "stream",
     "text": [
      "3\n",
      "-1\n"
     ]
    }
   ],
   "source": [
    "from typing import Protocol\n",
    "\n",
    "class NumberOperator(Protocol):\n",
    "    def __call__(self, a: int, b: int) -> int:\n",
    "        ...\n",
    "\n",
    "def add_numbers(a: int, b: int) -> int:\n",
    "    return a + b\n",
    "\n",
    "def substract_numbers(a: int, b: int) -> int:\n",
    "    return a - b\n",
    "\n",
    "def operate_in_two_numbers(func: NumberOperator, a: int, b: int) -> int:\n",
    "    return func(a, b)\n",
    "\n",
    "print(operate_in_two_numbers(add_numbers, 1, 2))\n",
    "\n",
    "print(operate_in_two_numbers(substract_numbers, 1, 2))"
   ]
  }
 ],
 "metadata": {
  "kernelspec": {
   "display_name": "Python 3 (ipykernel)",
   "language": "python",
   "name": "python3"
  },
  "language_info": {
   "codemirror_mode": {
    "name": "ipython",
    "version": 3
   },
   "file_extension": ".py",
   "mimetype": "text/x-python",
   "name": "python",
   "nbconvert_exporter": "python",
   "pygments_lexer": "ipython3",
   "version": "3.10.13"
  }
 },
 "nbformat": 4,
 "nbformat_minor": 2
}
